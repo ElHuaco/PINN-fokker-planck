{
 "cells": [
  {
   "cell_type": "markdown",
   "metadata": {
    "collapsed": true,
    "pycharm": {
     "name": "#%% md\n"
    }
   },
   "source": [
    "### Numerical solution\n",
    "\n",
    "FPlanck is a Python library for numerically solving the Fokker-Planck partial differential equation in N dimensions using a matrix numerical method. We will use it to find the numerical solution of the PDE and measure the training and test errors of our PINN."
   ]
  },
  {
   "cell_type": "markdown",
   "source": [
    "$$\\frac{\\partial p(x,t)}{\\partial t} = \\frac{\\partial}{\\partial x}\\left[\\frac{m\\omega^2}{\\gamma} x \\,p(x,t) + D \\frac{\\partial p(x,t)}{\\partial x}\\right] \\qquad A= \\frac{m\\omega^2}{\\gamma}$$"
   ],
   "metadata": {
    "collapsed": false,
    "pycharm": {
     "name": "#%% md\n"
    }
   }
  },
  {
   "cell_type": "code",
   "execution_count": 1,
   "outputs": [],
   "source": [
    "import numpy as np\n",
    "import matplotlib.pyplot as plt\n",
    "import matplotlib as mpl\n",
    "from scipy import constants\n",
    "from matplotlib.animation import FuncAnimation\n",
    "from fplanck import fokker_planck, boundary, harmonic_potential, gaussian_pdf, uniform_pdf"
   ],
   "metadata": {
    "collapsed": false,
    "pycharm": {
     "name": "#%%\n"
    }
   }
  },
  {
   "cell_type": "markdown",
   "source": [
    "$$A= \\frac{m\\omega^2}{\\gamma} = \\frac{m\\omega^2 D}{k_B T} $$"
   ],
   "metadata": {
    "collapsed": false,
    "pycharm": {
     "name": "#%% md\n"
    }
   }
  },
  {
   "cell_type": "code",
   "execution_count": null,
   "outputs": [],
   "source": [
    "'''# Define the constants\n",
    "nm = 1e-9\n",
    "viscosity = 8e-4\n",
    "radius = 50*nm\n",
    "drag = 6*np.pi*viscosity*radius\n",
    "T = 300'''"
   ],
   "metadata": {
    "collapsed": false,
    "pycharm": {
     "name": "#%%\n"
    }
   }
  },
  {
   "cell_type": "code",
   "execution_count": 2,
   "outputs": [],
   "source": [
    "# Define the constants\n",
    "# For simplicity m\\omega^2 = 1\n",
    "nm = 0.1\n",
    "A = 10\n",
    "D = 0.1\n",
    "vis = 1/A\n",
    "T = D/(constants.k*A)\n",
    "drag = T*constants.k/D"
   ],
   "metadata": {
    "collapsed": false,
    "pycharm": {
     "name": "#%%\n"
    }
   }
  },
  {
   "cell_type": "code",
   "execution_count": 3,
   "outputs": [],
   "source": [
    "# Define the harmonic potential\n",
    "U = harmonic_potential((0,0), 1e-6)\n",
    "\n",
    "# Model the function\n",
    "sim = fokker_planck(temperature=T, drag=drag,\n",
    "                    extent=60*nm, #extent (size) of the grid (vector)\n",
    "                    resolution=1*nm, #spatial resolution of the grid (scalar or vector)\n",
    "                    boundary=boundary.reflecting, #type of boundary condition (scalar or vector)\n",
    "                    potential=U)"
   ],
   "metadata": {
    "collapsed": false,
    "pycharm": {
     "name": "#%%\n"
    }
   }
  },
  {
   "cell_type": "code",
   "execution_count": 4,
   "outputs": [],
   "source": [
    "### steady-state solution\n",
    "steady = sim.steady_state()"
   ],
   "metadata": {
    "collapsed": false,
    "pycharm": {
     "name": "#%%\n"
    }
   }
  },
  {
   "cell_type": "code",
   "execution_count": 5,
   "outputs": [],
   "source": [
    "### time-evolved solution\n",
    "pdf = gaussian_pdf(0.5, 0.05)\n",
    "#pdf = uniform_pdf(lambda x: (x > 100*nm) & (x < 150*nm))\n",
    "p0 = pdf(sim.grid[0])\n",
    "Nsteps = 200\n",
    "time, Pt = sim.propagate_interval(pdf, 1, Nsteps=Nsteps)"
   ],
   "metadata": {
    "collapsed": false,
    "pycharm": {
     "name": "#%%\n"
    }
   }
  },
  {
   "cell_type": "code",
   "execution_count": 6,
   "outputs": [
    {
     "data": {
      "text/plain": "\"def update(i):\\n    line.set_ydata(Pt[i])\\n    return [line]\\n\\nanim = FuncAnimation(fig, update, frames=range(Nsteps), interval=30)\\nax.set(xlabel='x (nm)', ylabel='normalized PDF')\\nax.margins(x=0)\\n\\nplt.show()\""
     },
     "execution_count": 6,
     "metadata": {},
     "output_type": "execute_result"
    },
    {
     "data": {
      "text/plain": "<Figure size 432x288 with 1 Axes>",
      "image/png": "[encoded data removed]"
     },
     "metadata": {
      "needs_background": "light"
     },
     "output_type": "display_data"
    }
   ],
   "source": [
    "### animation\n",
    "fig, ax = plt.subplots()\n",
    "\n",
    "ax.plot(sim.grid[0]/nm, Pt[-1,:], color='k', ls='--', alpha=.5, label = 't = 1')\n",
    "ax.plot(sim.grid[0]/nm, p0, color='red', ls='--', alpha=1, label = 't = 0')\n",
    "ax.legend()\n",
    "#line, = ax.plot(sim.grid[0]/nm, p0, lw=2, color='C3')\n",
    "\n",
    "'''def update(i):\n",
    "    line.set_ydata(Pt[i])\n",
    "    return [line]\n",
    "\n",
    "anim = FuncAnimation(fig, update, frames=range(Nsteps), interval=30)\n",
    "ax.set(xlabel='x (nm)', ylabel='normalized PDF')\n",
    "ax.margins(x=0)\n",
    "\n",
    "plt.show()'''"
   ],
   "metadata": {
    "collapsed": false,
    "pycharm": {
     "name": "#%%\n"
    }
   }
  },
  {
   "cell_type": "code",
   "execution_count": 35,
   "outputs": [],
   "source": [],
   "metadata": {
    "collapsed": false,
    "pycharm": {
     "name": "#%%\n"
    }
   }
  },
  {
   "cell_type": "code",
   "execution_count": null,
   "outputs": [],
   "source": [],
   "metadata": {
    "collapsed": false,
    "pycharm": {
     "name": "#%%\n"
    }
   }
  }
 ],
 "metadata": {
  "kernelspec": {
   "display_name": "Python 3",
   "language": "python",
   "name": "python3"
  },
  "language_info": {
   "codemirror_mode": {
    "name": "ipython",
    "version": 2
   },
   "file_extension": ".py",
   "mimetype": "text/x-python",
   "name": "python",
   "nbconvert_exporter": "python",
   "pygments_lexer": "ipython2",
   "version": "2.7.6"
  }
 },
 "nbformat": 4,
 "nbformat_minor": 0
}