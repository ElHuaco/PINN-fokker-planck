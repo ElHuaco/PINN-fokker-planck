{
 "cells": [
  {
   "cell_type": "markdown",
   "metadata": {
    "collapsed": true,
    "pycharm": {
     "name": "#%% md\n"
    }
   },
   "source": [
    "### Numerical solution\n",
    "\n",
    "FPlanck is a Python library for numerically solving the Fokker-Planck partial differential equation in N dimensions using a matrix numerical method. We will use it to find the numerical solution of the PDE and measure the training and test errors of our PINN."
   ]
  },
  {
   "cell_type": "markdown",
   "source": [
    "$$\\frac{\\partial p(x,t)}{\\partial t} = \\frac{\\partial}{\\partial x}\\left[\\frac{m\\omega^2}{\\gamma} x \\,p(x,t) + D \\frac{\\partial p(x,t)}{\\partial x}\\right] \\qquad A= \\frac{m\\omega^2}{\\gamma}$$"
   ],
   "metadata": {
    "collapsed": false,
    "pycharm": {
     "name": "#%% md\n"
    }
   }
  },
  {
   "cell_type": "code",
   "execution_count": 15,
   "outputs": [],
   "source": [
    "import numpy as np\n",
    "import matplotlib.pyplot as plt\n",
    "import matplotlib as mpl\n",
    "from scipy import constants\n",
    "from matplotlib.animation import FuncAnimation\n",
    "from fplanck import fokker_planck, boundary, harmonic_potential, gaussian_pdf, uniform_pdf"
   ],
   "metadata": {
    "collapsed": false,
    "pycharm": {
     "name": "#%%\n"
    }
   }
  },
  {
   "cell_type": "markdown",
   "source": [
    "$$A= \\frac{m\\omega^2}{\\gamma} = \\frac{m\\omega^2 D}{k_B T} $$"
   ],
   "metadata": {
    "collapsed": false,
    "pycharm": {
     "name": "#%% md\n"
    }
   }
  },
  {
   "cell_type": "code",
   "execution_count": 16,
   "outputs": [
    {
     "name": "stdout",
     "output_type": "stream",
     "text": [
      "300 3.0159289474462015e-10\n"
     ]
    }
   ],
   "source": [
    "nm = 1e-9\n",
    "viscosity = 8e-4\n",
    "radius = 20*nm\n",
    "drag = 6*np.pi*viscosity*radius\n",
    "T = 300\n",
    "# m*omega^2\n",
    "k = 1e-6\n",
    "\n",
    "print(T, drag)"
   ],
   "metadata": {
    "collapsed": false,
    "pycharm": {
     "name": "#%%\n"
    }
   }
  },
  {
   "cell_type": "code",
   "execution_count": 17,
   "outputs": [
    {
     "name": "stdout",
     "output_type": "stream",
     "text": [
      "D =  1.3733569564055138e-11\n",
      "A =  3315.727981081153\n"
     ]
    }
   ],
   "source": [
    "# Equivalent constants in PINNs\n",
    "D = T*constants.k/drag\n",
    "A = k/drag\n",
    "print('D = ', D)\n",
    "print('A = ', A)"
   ],
   "metadata": {
    "collapsed": false,
    "pycharm": {
     "name": "#%%\n"
    }
   }
  },
  {
   "cell_type": "code",
   "execution_count": 18,
   "outputs": [],
   "source": [
    "# Define the harmonic potential\n",
    "U = harmonic_potential(0, k)\n",
    "\n",
    "# Model the function\n",
    "sim = fokker_planck(temperature=T, drag=drag,\n",
    "                    extent= 600*nm, #extent (size) of the grid (vector)\n",
    "                    resolution=10*nm, #spatial resolution of the grid (scalar or vector)\n",
    "                    boundary=boundary.reflecting, #type of boundary condition - boundaries are grid limits\n",
    "                    potential=U)"
   ],
   "metadata": {
    "collapsed": false,
    "pycharm": {
     "name": "#%%\n"
    }
   }
  },
  {
   "cell_type": "code",
   "execution_count": 19,
   "outputs": [],
   "source": [
    "### steady-state solution\n",
    "steady = sim.steady_state()"
   ],
   "metadata": {
    "collapsed": false,
    "pycharm": {
     "name": "#%%\n"
    }
   }
  },
  {
   "cell_type": "code",
   "execution_count": 20,
   "outputs": [],
   "source": [
    "### time-evolved solution\n",
    "pdf = gaussian_pdf(125*nm, 25*nm)\n",
    "p0 = pdf(sim.grid[0])\n",
    "Nsteps = 200\n",
    "time, Pt = sim.propagate_interval(pdf, 3e-3, Nsteps=Nsteps)"
   ],
   "metadata": {
    "collapsed": false,
    "pycharm": {
     "name": "#%%\n"
    }
   }
  },
  {
   "cell_type": "code",
   "execution_count": 21,
   "outputs": [
    {
     "data": {
      "text/plain": "<Figure size 432x288 with 1 Axes>",
      "image/png": "[encoded data removed]"
     },
     "metadata": {
      "needs_background": "light"
     },
     "output_type": "display_data"
    }
   ],
   "source": [
    "### animation\n",
    "fig, ax = plt.subplots()\n",
    "\n",
    "ax.plot(sim.grid[0]/nm, steady, color='k', ls='--', alpha=.5, label = 't = 1')\n",
    "ax.plot(sim.grid[0]/nm, p0, color='red', ls='--', alpha=1, label = 't = 0')\n",
    "ax.legend()\n",
    "line, = ax.plot(sim.grid[0]/nm, p0, lw=2, color='C3')\n",
    "\n",
    "def update(i):\n",
    "    line.set_ydata(Pt[i])\n",
    "    return [line]\n",
    "\n",
    "anim = FuncAnimation(fig, update, frames=range(Nsteps), interval=30)\n",
    "ax.set(xlabel='x (nm)', ylabel='normalized PDF')\n",
    "ax.margins(x=0)\n",
    "\n",
    "plt.show()"
   ],
   "metadata": {
    "collapsed": false,
    "pycharm": {
     "name": "#%%\n"
    }
   }
  },
  {
   "cell_type": "code",
   "execution_count": 35,
   "outputs": [],
   "source": [],
   "metadata": {
    "collapsed": false,
    "pycharm": {
     "name": "#%%\n"
    }
   }
  },
  {
   "cell_type": "code",
   "execution_count": null,
   "outputs": [],
   "source": [],
   "metadata": {
    "collapsed": false,
    "pycharm": {
     "name": "#%%\n"
    }
   }
  }
 ],
 "metadata": {
  "kernelspec": {
   "display_name": "Python 3",
   "language": "python",
   "name": "python3"
  },
  "language_info": {
   "codemirror_mode": {
    "name": "ipython",
    "version": 2
   },
   "file_extension": ".py",
   "mimetype": "text/x-python",
   "name": "python",
   "nbconvert_exporter": "python",
   "pygments_lexer": "ipython2",
   "version": "2.7.6"
  }
 },
 "nbformat": 4,
 "nbformat_minor": 0
}