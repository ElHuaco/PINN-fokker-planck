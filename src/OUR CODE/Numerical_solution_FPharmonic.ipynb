{
 "cells": [
  {
   "cell_type": "markdown",
   "metadata": {
    "collapsed": true,
    "pycharm": {
     "name": "#%% md\n"
    }
   },
   "source": [
    "### Numerical solution\n",
    "\n",
    "FPlanck is a Python library for numerically solving the Fokker-Planck partial differential equation in N dimensions using a matrix numerical method. We will use it to find the numerical solution of the PDE and measure the training and test errors of our PINN."
   ]
  },
  {
   "cell_type": "markdown",
   "source": [
    "$$\\frac{\\partial p(x,t)}{\\partial t} = \\frac{\\partial}{\\partial x}\\left[\\frac{m\\omega^2}{\\gamma} x \\,p(x,t) + D \\frac{\\partial p(x,t)}{\\partial x}\\right] \\qquad A= \\frac{m\\omega^2}{\\gamma}$$"
   ],
   "metadata": {
    "collapsed": false,
    "pycharm": {
     "name": "#%% md\n"
    }
   }
  },
  {
   "cell_type": "code",
   "execution_count": 105,
   "outputs": [],
   "source": [
    "import numpy as np\n",
    "import matplotlib.pyplot as plt\n",
    "import matplotlib as mpl\n",
    "from scipy import constants\n",
    "from matplotlib.animation import FuncAnimation\n",
    "from fplanck import fokker_planck, boundary, harmonic_potential, gaussian_pdf, uniform_pdf"
   ],
   "metadata": {
    "collapsed": false,
    "pycharm": {
     "name": "#%%\n"
    }
   }
  },
  {
   "cell_type": "markdown",
   "source": [
    "$$A= \\frac{m\\omega^2}{\\gamma} = \\frac{m\\omega^2 D}{k_B T} $$"
   ],
   "metadata": {
    "collapsed": false,
    "pycharm": {
     "name": "#%% md\n"
    }
   }
  },
  {
   "cell_type": "code",
   "execution_count": 97,
   "outputs": [],
   "source": [
    "# Define the constants\n",
    "nm = 1e-9\n",
    "viscosity = 8e-4\n",
    "radius = 50*nm\n",
    "drag = 6*np.pi*viscosity*radius\n",
    "T = 300"
   ],
   "metadata": {
    "collapsed": false,
    "pycharm": {
     "name": "#%%\n"
    }
   }
  },
  {
   "cell_type": "code",
   "execution_count": 106,
   "outputs": [],
   "source": [
    "# For simplicity m\\omega^2 = 1\n",
    "A = 10\n",
    "D = 0.1\n",
    "vis = 1/A\n",
    "T = D/(constants.k*A)\n",
    "drag = T*constants.k/D"
   ],
   "metadata": {
    "collapsed": false,
    "pycharm": {
     "name": "#%%\n"
    }
   }
  },
  {
   "cell_type": "code",
   "execution_count": 107,
   "outputs": [],
   "source": [
    "# Define the harmonic potential\n",
    "U = harmonic_potential((0,0), 1e-6)\n",
    "\n",
    "# Model the function\n",
    "sim = fokker_planck(temperature=T, drag=drag,\n",
    "                    extent=600*nm, #extent (size) of the grid (vector)\n",
    "                    resolution=10*nm, #spatial resolution of the grid (scalar or vector)\n",
    "                    boundary=boundary.reflecting, #type of boundary condition (scalar or vector)\n",
    "                    potential=U)"
   ],
   "metadata": {
    "collapsed": false,
    "pycharm": {
     "name": "#%%\n"
    }
   }
  },
  {
   "cell_type": "code",
   "execution_count": 108,
   "outputs": [],
   "source": [
    "### steady-state solution\n",
    "steady = sim.steady_state()"
   ],
   "metadata": {
    "collapsed": false,
    "pycharm": {
     "name": "#%%\n"
    }
   }
  },
  {
   "cell_type": "code",
   "execution_count": 110,
   "outputs": [
    {
     "ename": "KeyboardInterrupt",
     "evalue": "",
     "output_type": "error",
     "traceback": [
      "\u001B[1;31m---------------------------------------------------------------------------\u001B[0m",
      "\u001B[1;31mKeyboardInterrupt\u001B[0m                         Traceback (most recent call last)",
      "\u001B[1;32m<ipython-input-110-3565077f2fb0>\u001B[0m in \u001B[0;36m<module>\u001B[1;34m\u001B[0m\n\u001B[0;32m      4\u001B[0m \u001B[0mp0\u001B[0m \u001B[1;33m=\u001B[0m \u001B[0mpdf\u001B[0m\u001B[1;33m(\u001B[0m\u001B[0msim\u001B[0m\u001B[1;33m.\u001B[0m\u001B[0mgrid\u001B[0m\u001B[1;33m[\u001B[0m\u001B[1;36m0\u001B[0m\u001B[1;33m]\u001B[0m\u001B[1;33m)\u001B[0m\u001B[1;33m\u001B[0m\u001B[1;33m\u001B[0m\u001B[0m\n\u001B[0;32m      5\u001B[0m \u001B[0mNsteps\u001B[0m \u001B[1;33m=\u001B[0m \u001B[1;36m200\u001B[0m\u001B[1;33m\u001B[0m\u001B[1;33m\u001B[0m\u001B[0m\n\u001B[1;32m----> 6\u001B[1;33m \u001B[0mtime\u001B[0m\u001B[1;33m,\u001B[0m \u001B[0mPt\u001B[0m \u001B[1;33m=\u001B[0m \u001B[0msim\u001B[0m\u001B[1;33m.\u001B[0m\u001B[0mpropagate_interval\u001B[0m\u001B[1;33m(\u001B[0m\u001B[0mpdf\u001B[0m\u001B[1;33m,\u001B[0m \u001B[1;36m1\u001B[0m\u001B[1;33m,\u001B[0m \u001B[0mNsteps\u001B[0m\u001B[1;33m=\u001B[0m\u001B[0mNsteps\u001B[0m\u001B[1;33m)\u001B[0m\u001B[1;33m\u001B[0m\u001B[1;33m\u001B[0m\u001B[0m\n\u001B[0m",
      "\u001B[1;32m~\\Anaconda3\\envs\\lib\\site-packages\\fplanck\\solver.py\u001B[0m in \u001B[0;36mpropagate_interval\u001B[1;34m(self, initial, tf, Nsteps, dt, normalize)\u001B[0m\n\u001B[0;32m    202\u001B[0m \u001B[1;33m\u001B[0m\u001B[0m\n\u001B[0;32m    203\u001B[0m         \u001B[0mtime\u001B[0m \u001B[1;33m=\u001B[0m \u001B[0mnp\u001B[0m\u001B[1;33m.\u001B[0m\u001B[0mlinspace\u001B[0m\u001B[1;33m(\u001B[0m\u001B[1;36m0\u001B[0m\u001B[1;33m,\u001B[0m \u001B[0mtf\u001B[0m\u001B[1;33m,\u001B[0m \u001B[0mNsteps\u001B[0m\u001B[1;33m)\u001B[0m\u001B[1;33m\u001B[0m\u001B[1;33m\u001B[0m\u001B[0m\n\u001B[1;32m--> 204\u001B[1;33m         \u001B[0mpf\u001B[0m \u001B[1;33m=\u001B[0m \u001B[0mexpm_multiply\u001B[0m\u001B[1;33m(\u001B[0m\u001B[0mself\u001B[0m\u001B[1;33m.\u001B[0m\u001B[0mmaster_matrix\u001B[0m\u001B[1;33m,\u001B[0m \u001B[0mp0\u001B[0m\u001B[1;33m.\u001B[0m\u001B[0mflatten\u001B[0m\u001B[1;33m(\u001B[0m\u001B[1;33m)\u001B[0m\u001B[1;33m,\u001B[0m \u001B[0mstart\u001B[0m\u001B[1;33m=\u001B[0m\u001B[1;36m0\u001B[0m\u001B[1;33m,\u001B[0m \u001B[0mstop\u001B[0m\u001B[1;33m=\u001B[0m\u001B[0mtf\u001B[0m\u001B[1;33m,\u001B[0m \u001B[0mnum\u001B[0m\u001B[1;33m=\u001B[0m\u001B[0mNsteps\u001B[0m\u001B[1;33m,\u001B[0m \u001B[0mendpoint\u001B[0m\u001B[1;33m=\u001B[0m\u001B[1;32mTrue\u001B[0m\u001B[1;33m)\u001B[0m\u001B[1;33m\u001B[0m\u001B[1;33m\u001B[0m\u001B[0m\n\u001B[0m\u001B[0;32m    205\u001B[0m         \u001B[1;32mreturn\u001B[0m \u001B[0mtime\u001B[0m\u001B[1;33m,\u001B[0m \u001B[0mpf\u001B[0m\u001B[1;33m.\u001B[0m\u001B[0mreshape\u001B[0m\u001B[1;33m(\u001B[0m\u001B[1;33m(\u001B[0m\u001B[0mpf\u001B[0m\u001B[1;33m.\u001B[0m\u001B[0mshape\u001B[0m\u001B[1;33m[\u001B[0m\u001B[1;36m0\u001B[0m\u001B[1;33m]\u001B[0m\u001B[1;33m,\u001B[0m\u001B[1;33m)\u001B[0m \u001B[1;33m+\u001B[0m \u001B[0mtuple\u001B[0m\u001B[1;33m(\u001B[0m\u001B[0mself\u001B[0m\u001B[1;33m.\u001B[0m\u001B[0mNgrid\u001B[0m\u001B[1;33m)\u001B[0m\u001B[1;33m)\u001B[0m\u001B[1;33m\u001B[0m\u001B[1;33m\u001B[0m\u001B[0m\n\u001B[0;32m    206\u001B[0m \u001B[1;33m\u001B[0m\u001B[0m\n",
      "\u001B[1;32m~\\Anaconda3\\envs\\lib\\site-packages\\scipy\\sparse\\linalg\\_expm_multiply.py\u001B[0m in \u001B[0;36mexpm_multiply\u001B[1;34m(A, B, start, stop, num, endpoint)\u001B[0m\n\u001B[0;32m    139\u001B[0m         \u001B[0mX\u001B[0m \u001B[1;33m=\u001B[0m \u001B[0m_expm_multiply_simple\u001B[0m\u001B[1;33m(\u001B[0m\u001B[0mA\u001B[0m\u001B[1;33m,\u001B[0m \u001B[0mB\u001B[0m\u001B[1;33m)\u001B[0m\u001B[1;33m\u001B[0m\u001B[1;33m\u001B[0m\u001B[0m\n\u001B[0;32m    140\u001B[0m     \u001B[1;32melse\u001B[0m\u001B[1;33m:\u001B[0m\u001B[1;33m\u001B[0m\u001B[1;33m\u001B[0m\u001B[0m\n\u001B[1;32m--> 141\u001B[1;33m         \u001B[0mX\u001B[0m\u001B[1;33m,\u001B[0m \u001B[0mstatus\u001B[0m \u001B[1;33m=\u001B[0m \u001B[0m_expm_multiply_interval\u001B[0m\u001B[1;33m(\u001B[0m\u001B[0mA\u001B[0m\u001B[1;33m,\u001B[0m \u001B[0mB\u001B[0m\u001B[1;33m,\u001B[0m \u001B[0mstart\u001B[0m\u001B[1;33m,\u001B[0m \u001B[0mstop\u001B[0m\u001B[1;33m,\u001B[0m \u001B[0mnum\u001B[0m\u001B[1;33m,\u001B[0m \u001B[0mendpoint\u001B[0m\u001B[1;33m)\u001B[0m\u001B[1;33m\u001B[0m\u001B[1;33m\u001B[0m\u001B[0m\n\u001B[0m\u001B[0;32m    142\u001B[0m     \u001B[1;32mreturn\u001B[0m \u001B[0mX\u001B[0m\u001B[1;33m\u001B[0m\u001B[1;33m\u001B[0m\u001B[0m\n\u001B[0;32m    143\u001B[0m \u001B[1;33m\u001B[0m\u001B[0m\n",
      "\u001B[1;32m~\\Anaconda3\\envs\\lib\\site-packages\\scipy\\sparse\\linalg\\_expm_multiply.py\u001B[0m in \u001B[0;36m_expm_multiply_interval\u001B[1;34m(A, B, start, stop, num, endpoint, balance, status_only)\u001B[0m\n\u001B[0;32m    603\u001B[0m \u001B[1;33m\u001B[0m\u001B[0m\n\u001B[0;32m    604\u001B[0m     \u001B[1;31m# Compute the expm action up to the initial time point.\u001B[0m\u001B[1;33m\u001B[0m\u001B[1;33m\u001B[0m\u001B[1;33m\u001B[0m\u001B[0m\n\u001B[1;32m--> 605\u001B[1;33m     \u001B[0mX\u001B[0m\u001B[1;33m[\u001B[0m\u001B[1;36m0\u001B[0m\u001B[1;33m]\u001B[0m \u001B[1;33m=\u001B[0m \u001B[0m_expm_multiply_simple_core\u001B[0m\u001B[1;33m(\u001B[0m\u001B[0mA\u001B[0m\u001B[1;33m,\u001B[0m \u001B[0mB\u001B[0m\u001B[1;33m,\u001B[0m \u001B[0mt_0\u001B[0m\u001B[1;33m,\u001B[0m \u001B[0mmu\u001B[0m\u001B[1;33m,\u001B[0m \u001B[0mm_star\u001B[0m\u001B[1;33m,\u001B[0m \u001B[0ms\u001B[0m\u001B[1;33m)\u001B[0m\u001B[1;33m\u001B[0m\u001B[1;33m\u001B[0m\u001B[0m\n\u001B[0m\u001B[0;32m    606\u001B[0m \u001B[1;33m\u001B[0m\u001B[0m\n\u001B[0;32m    607\u001B[0m     \u001B[1;31m# Compute the expm action at the rest of the time points.\u001B[0m\u001B[1;33m\u001B[0m\u001B[1;33m\u001B[0m\u001B[1;33m\u001B[0m\u001B[0m\n",
      "\u001B[1;32m~\\Anaconda3\\envs\\lib\\site-packages\\scipy\\sparse\\linalg\\_expm_multiply.py\u001B[0m in \u001B[0;36m_expm_multiply_simple_core\u001B[1;34m(A, B, t, mu, m_star, s, tol, balance)\u001B[0m\n\u001B[0;32m    211\u001B[0m         \u001B[1;32mfor\u001B[0m \u001B[0mj\u001B[0m \u001B[1;32min\u001B[0m \u001B[0mrange\u001B[0m\u001B[1;33m(\u001B[0m\u001B[0mm_star\u001B[0m\u001B[1;33m)\u001B[0m\u001B[1;33m:\u001B[0m\u001B[1;33m\u001B[0m\u001B[1;33m\u001B[0m\u001B[0m\n\u001B[0;32m    212\u001B[0m             \u001B[0mcoeff\u001B[0m \u001B[1;33m=\u001B[0m \u001B[0mt\u001B[0m \u001B[1;33m/\u001B[0m \u001B[0mfloat\u001B[0m\u001B[1;33m(\u001B[0m\u001B[0ms\u001B[0m\u001B[1;33m*\u001B[0m\u001B[1;33m(\u001B[0m\u001B[0mj\u001B[0m\u001B[1;33m+\u001B[0m\u001B[1;36m1\u001B[0m\u001B[1;33m)\u001B[0m\u001B[1;33m)\u001B[0m\u001B[1;33m\u001B[0m\u001B[1;33m\u001B[0m\u001B[0m\n\u001B[1;32m--> 213\u001B[1;33m             \u001B[0mB\u001B[0m \u001B[1;33m=\u001B[0m \u001B[0mcoeff\u001B[0m \u001B[1;33m*\u001B[0m \u001B[0mA\u001B[0m\u001B[1;33m.\u001B[0m\u001B[0mdot\u001B[0m\u001B[1;33m(\u001B[0m\u001B[0mB\u001B[0m\u001B[1;33m)\u001B[0m\u001B[1;33m\u001B[0m\u001B[1;33m\u001B[0m\u001B[0m\n\u001B[0m\u001B[0;32m    214\u001B[0m             \u001B[0mc2\u001B[0m \u001B[1;33m=\u001B[0m \u001B[0m_exact_inf_norm\u001B[0m\u001B[1;33m(\u001B[0m\u001B[0mB\u001B[0m\u001B[1;33m)\u001B[0m\u001B[1;33m\u001B[0m\u001B[1;33m\u001B[0m\u001B[0m\n\u001B[0;32m    215\u001B[0m             \u001B[0mF\u001B[0m \u001B[1;33m=\u001B[0m \u001B[0mF\u001B[0m \u001B[1;33m+\u001B[0m \u001B[0mB\u001B[0m\u001B[1;33m\u001B[0m\u001B[1;33m\u001B[0m\u001B[0m\n",
      "\u001B[1;32m~\\Anaconda3\\envs\\lib\\site-packages\\scipy\\sparse\\base.py\u001B[0m in \u001B[0;36mdot\u001B[1;34m(self, other)\u001B[0m\n\u001B[0;32m    357\u001B[0m \u001B[1;33m\u001B[0m\u001B[0m\n\u001B[0;32m    358\u001B[0m         \"\"\"\n\u001B[1;32m--> 359\u001B[1;33m         \u001B[1;32mreturn\u001B[0m \u001B[0mself\u001B[0m \u001B[1;33m*\u001B[0m \u001B[0mother\u001B[0m\u001B[1;33m\u001B[0m\u001B[1;33m\u001B[0m\u001B[0m\n\u001B[0m\u001B[0;32m    360\u001B[0m \u001B[1;33m\u001B[0m\u001B[0m\n\u001B[0;32m    361\u001B[0m     \u001B[1;32mdef\u001B[0m \u001B[0mpower\u001B[0m\u001B[1;33m(\u001B[0m\u001B[0mself\u001B[0m\u001B[1;33m,\u001B[0m \u001B[0mn\u001B[0m\u001B[1;33m,\u001B[0m \u001B[0mdtype\u001B[0m\u001B[1;33m=\u001B[0m\u001B[1;32mNone\u001B[0m\u001B[1;33m)\u001B[0m\u001B[1;33m:\u001B[0m\u001B[1;33m\u001B[0m\u001B[1;33m\u001B[0m\u001B[0m\n",
      "\u001B[1;32m~\\Anaconda3\\envs\\lib\\site-packages\\scipy\\sparse\\base.py\u001B[0m in \u001B[0;36m__mul__\u001B[1;34m(self, other)\u001B[0m\n\u001B[0;32m    465\u001B[0m             \u001B[1;31m# Fast path for the most common case\u001B[0m\u001B[1;33m\u001B[0m\u001B[1;33m\u001B[0m\u001B[1;33m\u001B[0m\u001B[0m\n\u001B[0;32m    466\u001B[0m             \u001B[1;32mif\u001B[0m \u001B[0mother\u001B[0m\u001B[1;33m.\u001B[0m\u001B[0mshape\u001B[0m \u001B[1;33m==\u001B[0m \u001B[1;33m(\u001B[0m\u001B[0mN\u001B[0m\u001B[1;33m,\u001B[0m\u001B[1;33m)\u001B[0m\u001B[1;33m:\u001B[0m\u001B[1;33m\u001B[0m\u001B[1;33m\u001B[0m\u001B[0m\n\u001B[1;32m--> 467\u001B[1;33m                 \u001B[1;32mreturn\u001B[0m \u001B[0mself\u001B[0m\u001B[1;33m.\u001B[0m\u001B[0m_mul_vector\u001B[0m\u001B[1;33m(\u001B[0m\u001B[0mother\u001B[0m\u001B[1;33m)\u001B[0m\u001B[1;33m\u001B[0m\u001B[1;33m\u001B[0m\u001B[0m\n\u001B[0m\u001B[0;32m    468\u001B[0m             \u001B[1;32melif\u001B[0m \u001B[0mother\u001B[0m\u001B[1;33m.\u001B[0m\u001B[0mshape\u001B[0m \u001B[1;33m==\u001B[0m \u001B[1;33m(\u001B[0m\u001B[0mN\u001B[0m\u001B[1;33m,\u001B[0m \u001B[1;36m1\u001B[0m\u001B[1;33m)\u001B[0m\u001B[1;33m:\u001B[0m\u001B[1;33m\u001B[0m\u001B[1;33m\u001B[0m\u001B[0m\n\u001B[0;32m    469\u001B[0m                 \u001B[1;32mreturn\u001B[0m \u001B[0mself\u001B[0m\u001B[1;33m.\u001B[0m\u001B[0m_mul_vector\u001B[0m\u001B[1;33m(\u001B[0m\u001B[0mother\u001B[0m\u001B[1;33m.\u001B[0m\u001B[0mravel\u001B[0m\u001B[1;33m(\u001B[0m\u001B[1;33m)\u001B[0m\u001B[1;33m)\u001B[0m\u001B[1;33m.\u001B[0m\u001B[0mreshape\u001B[0m\u001B[1;33m(\u001B[0m\u001B[0mM\u001B[0m\u001B[1;33m,\u001B[0m \u001B[1;36m1\u001B[0m\u001B[1;33m)\u001B[0m\u001B[1;33m\u001B[0m\u001B[1;33m\u001B[0m\u001B[0m\n",
      "\u001B[1;32m~\\Anaconda3\\envs\\lib\\site-packages\\scipy\\sparse\\compressed.py\u001B[0m in \u001B[0;36m_mul_vector\u001B[1;34m(self, other)\u001B[0m\n\u001B[0;32m    474\u001B[0m         \u001B[1;31m# csr_matvec or csc_matvec\u001B[0m\u001B[1;33m\u001B[0m\u001B[1;33m\u001B[0m\u001B[1;33m\u001B[0m\u001B[0m\n\u001B[0;32m    475\u001B[0m         \u001B[0mfn\u001B[0m \u001B[1;33m=\u001B[0m \u001B[0mgetattr\u001B[0m\u001B[1;33m(\u001B[0m\u001B[0m_sparsetools\u001B[0m\u001B[1;33m,\u001B[0m \u001B[0mself\u001B[0m\u001B[1;33m.\u001B[0m\u001B[0mformat\u001B[0m \u001B[1;33m+\u001B[0m \u001B[1;34m'_matvec'\u001B[0m\u001B[1;33m)\u001B[0m\u001B[1;33m\u001B[0m\u001B[1;33m\u001B[0m\u001B[0m\n\u001B[1;32m--> 476\u001B[1;33m         \u001B[0mfn\u001B[0m\u001B[1;33m(\u001B[0m\u001B[0mM\u001B[0m\u001B[1;33m,\u001B[0m \u001B[0mN\u001B[0m\u001B[1;33m,\u001B[0m \u001B[0mself\u001B[0m\u001B[1;33m.\u001B[0m\u001B[0mindptr\u001B[0m\u001B[1;33m,\u001B[0m \u001B[0mself\u001B[0m\u001B[1;33m.\u001B[0m\u001B[0mindices\u001B[0m\u001B[1;33m,\u001B[0m \u001B[0mself\u001B[0m\u001B[1;33m.\u001B[0m\u001B[0mdata\u001B[0m\u001B[1;33m,\u001B[0m \u001B[0mother\u001B[0m\u001B[1;33m,\u001B[0m \u001B[0mresult\u001B[0m\u001B[1;33m)\u001B[0m\u001B[1;33m\u001B[0m\u001B[1;33m\u001B[0m\u001B[0m\n\u001B[0m\u001B[0;32m    477\u001B[0m \u001B[1;33m\u001B[0m\u001B[0m\n\u001B[0;32m    478\u001B[0m         \u001B[1;32mreturn\u001B[0m \u001B[0mresult\u001B[0m\u001B[1;33m\u001B[0m\u001B[1;33m\u001B[0m\u001B[0m\n",
      "\u001B[1;31mKeyboardInterrupt\u001B[0m: "
     ]
    }
   ],
   "source": [
    "### time-evolved solution\n",
    "pdf = gaussian_pdf(0.5, 0.05)\n",
    "#pdf = uniform_pdf(lambda x: (x > 100*nm) & (x < 150*nm))\n",
    "p0 = pdf(sim.grid[0])\n",
    "Nsteps = 200\n",
    "time, Pt = sim.propagate_interval(pdf, 1, Nsteps=Nsteps)"
   ],
   "metadata": {
    "collapsed": false,
    "pycharm": {
     "name": "#%%\n"
    }
   }
  },
  {
   "cell_type": "code",
   "execution_count": 104,
   "outputs": [
    {
     "data": {
      "text/plain": "<Figure size 432x288 with 1 Axes>",
      "image/png": "[encoded data removed]"
     },
     "metadata": {
      "needs_background": "light"
     },
     "output_type": "display_data"
    }
   ],
   "source": [
    "### animation\n",
    "fig, ax = plt.subplots()\n",
    "\n",
    "ax.plot(sim.grid[0]/nm, Pt[-1,:], color='k', ls='--', alpha=.5, label = 't = 1')\n",
    "ax.plot(sim.grid[0]/nm, p0, color='red', ls='--', alpha=1, label = 't = 0')\n",
    "ax.legend()\n",
    "#line, = ax.plot(sim.grid[0]/nm, p0, lw=2, color='C3')\n",
    "\n",
    "def update(i):\n",
    "    line.set_ydata(Pt[i])\n",
    "    return [line]\n",
    "\n",
    "anim = FuncAnimation(fig, update, frames=range(Nsteps), interval=30)\n",
    "ax.set(xlabel='x (nm)', ylabel='normalized PDF')\n",
    "ax.margins(x=0)\n",
    "\n",
    "plt.show()"
   ],
   "metadata": {
    "collapsed": false,
    "pycharm": {
     "name": "#%%\n"
    }
   }
  },
  {
   "cell_type": "code",
   "execution_count": 35,
   "outputs": [],
   "source": [],
   "metadata": {
    "collapsed": false,
    "pycharm": {
     "name": "#%%\n"
    }
   }
  },
  {
   "cell_type": "code",
   "execution_count": null,
   "outputs": [],
   "source": [],
   "metadata": {
    "collapsed": false,
    "pycharm": {
     "name": "#%%\n"
    }
   }
  }
 ],
 "metadata": {
  "kernelspec": {
   "display_name": "Python 3",
   "language": "python",
   "name": "python3"
  },
  "language_info": {
   "codemirror_mode": {
    "name": "ipython",
    "version": 2
   },
   "file_extension": ".py",
   "mimetype": "text/x-python",
   "name": "python",
   "nbconvert_exporter": "python",
   "pygments_lexer": "ipython2",
   "version": "2.7.6"
  }
 },
 "nbformat": 4,
 "nbformat_minor": 0
}