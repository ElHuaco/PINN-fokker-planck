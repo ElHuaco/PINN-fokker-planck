{
 "cells": [
  {
   "cell_type": "markdown",
   "metadata": {
    "pycharm": {
     "name": "#%% md\n"
    }
   },
   "source": [
    "### Numerical solution\n",
    "\n",
    "FPlanck is a Python library for numerically solving the Fokker-Planck partial differential equation in N dimensions using a matrix numerical method. We will use it to find the numerical solution of the PDE and measure the training and test errors of our PINN."
   ]
  },
  {
   "cell_type": "markdown",
   "metadata": {
    "pycharm": {
     "name": "#%% md\n"
    }
   },
   "source": [
    "$$\\frac{\\partial p(x,t)}{\\partial t} = \\frac{\\partial}{\\partial x}\\left[\\frac{m\\omega^2}{\\gamma} x \\,p(x,t) + D \\frac{\\partial p(x,t)}{\\partial x}\\right] \\qquad A= \\frac{m\\omega^2}{\\gamma}$$"
   ]
  },
  {
   "cell_type": "code",
   "execution_count": 15,
   "metadata": {
    "collapsed": false,
    "jupyter": {
     "outputs_hidden": false
    },
    "pycharm": {
     "name": "#%%\n"
    }
   },
   "outputs": [],
   "source": [
    "import numpy as np\n",
    "import matplotlib.pyplot as plt\n",
    "import matplotlib as mpl\n",
    "from scipy import constants\n",
    "from matplotlib.animation import FuncAnimation\n",
    "from fplanck import fokker_planck, boundary, harmonic_potential, gaussian_pdf, uniform_pdf"
   ]
  },
  {
   "cell_type": "markdown",
   "metadata": {
    "pycharm": {
     "name": "#%% md\n"
    }
   },
   "source": [
    "$$A= \\frac{m\\omega^2}{\\gamma} = \\frac{m\\omega^2 D}{k_B T} $$"
   ]
  },
  {
   "cell_type": "code",
   "execution_count": 16,
   "metadata": {
    "collapsed": false,
    "jupyter": {
     "outputs_hidden": false
    },
    "pycharm": {
     "name": "#%%\n"
    }
   },
   "outputs": [
    {
     "name": "stdout",
     "output_type": "stream",
     "text": [
      "300 3.0159289474462015e-10\n"
     ]
    }
   ],
   "source": [
    "nm = 1e-9\n",
    "viscosity = 8e-4\n",
    "radius = 20*nm\n",
    "drag = 6*np.pi*viscosity*radius\n",
    "T = 300\n",
    "# m*omega^2\n",
    "k = 1e-6\n",
    "\n",
    "print(T, drag)"
   ]
  },
  {
   "cell_type": "code",
   "execution_count": 17,
   "metadata": {
    "collapsed": false,
    "jupyter": {
     "outputs_hidden": false
    },
    "pycharm": {
     "name": "#%%\n"
    }
   },
   "outputs": [
    {
     "name": "stdout",
     "output_type": "stream",
     "text": [
      "D =  1.3733569564055138e-11\n",
      "A =  3315.727981081153\n"
     ]
    }
   ],
   "source": [
    "# Equivalent constants in PINNs\n",
    "D = T*constants.k/drag\n",
    "A = k/drag\n",
    "print('D = ', D)\n",
    "print('A = ', A)"
   ]
  },
  {
   "cell_type": "code",
   "execution_count": 18,
   "metadata": {
    "collapsed": false,
    "jupyter": {
     "outputs_hidden": false
    },
    "pycharm": {
     "name": "#%%\n"
    }
   },
   "outputs": [],
   "source": [
    "# Define the harmonic potential\n",
    "U = harmonic_potential(0, k)\n",
    "\n",
    "# Model the function\n",
    "sim = fokker_planck(temperature=T, drag=drag,\n",
    "                    extent= 600*nm, #extent (size) of the grid (vector)\n",
    "                    resolution=10*nm, #spatial resolution of the grid (scalar or vector)\n",
    "                    boundary=boundary.reflecting, #type of boundary condition - boundaries are grid limits\n",
    "                    potential=U)"
   ]
  },
  {
   "cell_type": "code",
   "execution_count": 19,
   "metadata": {
    "collapsed": false,
    "jupyter": {
     "outputs_hidden": false
    },
    "pycharm": {
     "name": "#%%\n"
    }
   },
   "outputs": [],
   "source": [
    "### steady-state solution\n",
    "steady = sim.steady_state()"
   ]
  },
  {
   "cell_type": "code",
   "execution_count": 24,
   "metadata": {
    "collapsed": false,
    "jupyter": {
     "outputs_hidden": false
    },
    "pycharm": {
     "name": "#%%\n"
    }
   },
   "outputs": [],
   "source": [
    "### time-evolved solution\n",
    "pdf = gaussian_pdf(125*nm, 25*nm)\n",
    "p0 = pdf(sim.grid[0])\n",
    "Nsteps = 200\n",
    "t_f = 3e-3\n",
    "time, Pt = sim.propagate_interval(pdf, t_f, Nsteps=Nsteps)"
   ]
  },
  {
   "cell_type": "code",
   "execution_count": 29,
   "metadata": {
    "collapsed": false,
    "jupyter": {
     "outputs_hidden": false
    },
    "pycharm": {
     "name": "#%%\n"
    }
   },
   "outputs": [
    {
     "data": {
      "image/png": "[encoded data removed]",
      "text/plain": [
       "<Figure size 432x288 with 1 Axes>"
      ]
     },
     "metadata": {
      "needs_background": "light"
     },
     "output_type": "display_data"
    }
   ],
   "source": [
    "### animation\n",
    "fig, ax = plt.subplots()\n",
    "\n",
    "ax.plot(sim.grid[0]/nm, steady, color='k', ls='--', alpha=.5, label = 'equilibrium')\n",
    "ax.plot(sim.grid[0]/nm, p0, color='red', ls='--', alpha=1, label = 't = 0')\n",
    "ax.plot(sim.grid[0]/nm, Pt[3], color='blue', ls='--', alpha=1, label = 't = {}'.format(time[3]))\n",
    "ax.legend()\n",
    "ax.set(xlabel='x (nm)', ylabel='normalized PDF')\n",
    "ax.margins(x=0)\n",
    "\n",
    "plt.show()"
   ]
  },
  {
   "cell_type": "code",
   "execution_count": 28,
   "metadata": {
    "collapsed": false,
    "jupyter": {
     "outputs_hidden": false
    },
    "pycharm": {
     "name": "#%%\n"
    }
   },
   "outputs": [],
   "source": [
    "line, = ax.plot(sim.grid[0]/nm, p0, lw=2, color='C3')\n",
    "\n",
    "def update(i):\n",
    "    line.set_ydata(Pt[i])\n",
    "    return [line]\n",
    "\n",
    "anim = FuncAnimation(fig, update, frames=range(Nsteps), interval=30)\n"
   ]
  },
  {
   "cell_type": "code",
   "execution_count": 30,
   "metadata": {
    "collapsed": false,
    "jupyter": {
     "outputs_hidden": false
    },
    "pycharm": {
     "name": "#%%\n"
    }
   },
   "outputs": [
    {
     "data": {
      "text/plain": [
       "<matplotlib.animation.FuncAnimation at 0x1b7abfb1e10>"
      ]
     },
     "execution_count": 30,
     "metadata": {},
     "output_type": "execute_result"
    }
   ],
   "source": [
    "anim"
   ]
  },
  {
   "cell_type": "code",
   "execution_count": null,
   "metadata": {
    "collapsed": false,
    "jupyter": {
     "outputs_hidden": false
    },
    "pycharm": {
     "name": "#%%\n"
    }
   },
   "outputs": [],
   "source": []
  }
 ],
 "metadata": {
  "kernelspec": {
   "display_name": "Python 3 (ipykernel)",
   "language": "python",
   "name": "python3"
  },
  "language_info": {
   "codemirror_mode": {
    "name": "ipython",
    "version": 3
   },
   "file_extension": ".py",
   "mimetype": "text/x-python",
   "name": "python",
   "nbconvert_exporter": "python",
   "pygments_lexer": "ipython3",
   "version": "3.9.12"
  }
 },
 "nbformat": 4,
 "nbformat_minor": 4
}
